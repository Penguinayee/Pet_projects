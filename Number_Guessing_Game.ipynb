{
 "cells": [
  {
   "cell_type": "code",
   "execution_count": 2,
   "metadata": {},
   "outputs": [],
   "source": [
    "#http://patorjk.com/software/taag/#p=display&f=Train&t=Number%20Guessing%20Game\n",
    "title = '''  _  _                    _                                 ___                                      _              __ _             ___                           \n",
    " | \\| |   _  _    _ __   | |__     ___      _ _     o O O  / __|   _  _     ___     ___     ___     (_)    _ _     / _` |    o O O  / __|   __ _    _ __     ___   \n",
    " | .` |  | +| |  | '  \\  | '_ \\   / -_)    | '_|   o      | (_ |  | +| |   / -_)   (_-<    (_-<     | |   | ' \\    \\__, |   o      | (_ |  / _` |  | '  \\   / -_)  \n",
    " |_|\\_|   \\_,_|  |_|_|_| |_.__/   \\___|   _|_|_   TS__[O]  \\___|   \\_,_|   \\___|   /__/_   /__/_   _|_|_  |_||_|   |___/   TS__[O]  \\___|  \\__,_|  |_|_|_|  \\___|  \n",
    "_|\"\"\"\"\"|_|\"\"\"\"\"|_|\"\"\"\"\"|_|\"\"\"\"\"|_|\"\"\"\"\"|_|\"\"\"\"\"| {======|_|\"\"\"\"\"|_|\"\"\"\"\"|_|\"\"\"\"\"|_|\"\"\"\"\"|_|\"\"\"\"\"|_|\"\"\"\"\"|_|\"\"\"\"\"|_|\"\"\"\"\"| {======|_|\"\"\"\"\"|_|\"\"\"\"\"|_|\"\"\"\"\"|_|\"\"\"\"\"| \n",
    "\"`-0-0-'\"`-0-0-'\"`-0-0-'\"`-0-0-'\"`-0-0-'\"`-0-0-'./o--000'\"`-0-0-'\"`-0-0-'\"`-0-0-'\"`-0-0-'\"`-0-0-'\"`-0-0-'\"`-0-0-'\"`-0-0-'./o--000'\"`-0-0-'\"`-0-0-'\"`-0-0-'\"`-0-0-' '''"
   ]
  },
  {
   "cell_type": "code",
   "execution_count": 31,
   "metadata": {},
   "outputs": [],
   "source": [
    "def check_blank_int(blank):\n",
    "  while type(blank) != int:\n",
    "    blank = input(\"Make a guess (integer):\")\n",
    "    if type(blank) == int:\n",
    "      break\n",
    "  return int(blank)\n",
    "\n",
    "def guess_number(ans = 50):\n",
    "  \n",
    "  print(\"Welcome to the Number Guessing Game!\")\n",
    "  print(\"I'm thinking of a number between 1 and 100.\")\n",
    "  print(f\"Pssst, the correct answer is {ans}\")\n",
    "  dif = input(\"Choose a difficulty. Type 'easy' or 'hard':\")\n",
    "  \n",
    "  if dif.lower() == \"easy\":\n",
    "     limit = 11\n",
    "  if dif.lower() == \"hard\":\n",
    "     limit = 6\n",
    "  else:\n",
    "     limit = 11\n",
    "\n",
    "  attempt =  1\n",
    "  guess = int(input(\"Make a guess (integer):\"))\n",
    "  print(f\"Your attempt {attempt}: {guess}\")\n",
    "\n",
    "  #check_blank_int(guess)\n",
    "\n",
    "  if guess == ans:\n",
    "        print(f\"Jackpot! The answer is {ans}\")\n",
    "        return\n",
    "  attempt += 1\n",
    "\n",
    "  while guess != ans and attempt < limit:\n",
    "    if guess > ans:\n",
    "      print(\"Too high. \\\n",
    "          Guess again.\")\n",
    "    if guess < ans:\n",
    "      print(\"Too low. \\\n",
    "            Guess again.\")\n",
    "    guess = int(input(\"Make a guess (integer):\"))\n",
    "    print(f\"Your attempt {attempt}: {guess}\")\n",
    "    #check_blank_int(guess)\n",
    "    attempt += 1\n",
    "    \n",
    "    if guess == ans:\n",
    "        print(f\"You got it! The answer is {ans}\")\n",
    "        break\n",
    "        return\n",
    "\n",
    "  print(f\"You failed. The correct answer is {ans}.\")"
   ]
  },
  {
   "cell_type": "code",
   "execution_count": 32,
   "metadata": {},
   "outputs": [
    {
     "name": "stdout",
     "output_type": "stream",
     "text": [
      "Welcome to the Number Guessing Game!\n",
      "I'm thinking of a number between 1 and 100.\n",
      "Pssst, the correct answer is 90\n",
      "Your attempt 1: 2\n",
      "Too low.             Guess again.\n",
      "Your attempt 2: 4\n",
      "Too low.             Guess again.\n",
      "Your attempt 3: 5\n",
      "Too low.             Guess again.\n",
      "Your attempt 4: 21\n",
      "Too low.             Guess again.\n",
      "Your attempt 5: 4\n",
      "You failed. The correct answer is 90.\n"
     ]
    }
   ],
   "source": [
    "guess_number(90)"
   ]
  },
  {
   "cell_type": "code",
   "execution_count": null,
   "metadata": {},
   "outputs": [],
   "source": [
    "23\n",
    "21\n",
    "23"
   ]
  }
 ],
 "metadata": {
  "kernelspec": {
   "display_name": "Python 3",
   "language": "python",
   "name": "python3"
  },
  "language_info": {
   "codemirror_mode": {
    "name": "ipython",
    "version": 3
   },
   "file_extension": ".py",
   "mimetype": "text/x-python",
   "name": "python",
   "nbconvert_exporter": "python",
   "pygments_lexer": "ipython3",
   "version": "3.10.11"
  },
  "orig_nbformat": 4
 },
 "nbformat": 4,
 "nbformat_minor": 2
}
